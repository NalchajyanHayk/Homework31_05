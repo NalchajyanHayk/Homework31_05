{
 "cells": [
  {
   "cell_type": "markdown",
   "id": "cd5558b0",
   "metadata": {},
   "source": [
    "# Picsart Academy W5 Python Nalchajyan Hayk"
   ]
  },
  {
   "cell_type": "markdown",
   "id": "ee8ebcaa",
   "metadata": {},
   "source": [
    "### Write a program that asks the user for weight in kilograms and converts it to pounds. There are 2.2 pounds in a kilogram"
   ]
  },
  {
   "cell_type": "code",
   "execution_count": 2,
   "id": "9241831b",
   "metadata": {},
   "outputs": [
    {
     "name": "stdout",
     "output_type": "stream",
     "text": [
      "Please insert the amount of kilograms!! 5\n",
      "5 kilos = 11.0 pounds!!\n"
     ]
    }
   ],
   "source": [
    "kilograms = int(input(\"Please insert the amount of kilograms!! \"))\n",
    "pounds = kilograms * 2.2\n",
    "print(f\"{kilograms} kilos = {pounds} pounds!!\")"
   ]
  },
  {
   "cell_type": "code",
   "execution_count": null,
   "id": "6e754481",
   "metadata": {},
   "outputs": [],
   "source": []
  },
  {
   "cell_type": "markdown",
   "id": "ed6f6459",
   "metadata": {},
   "source": [
    "### Write a program that generates and prints 50 random integers, each between 3 and 6."
   ]
  },
  {
   "cell_type": "code",
   "execution_count": 7,
   "id": "da169d45",
   "metadata": {},
   "outputs": [
    {
     "name": "stdout",
     "output_type": "stream",
     "text": [
      "[4, 4, 3, 5, 6, 5, 4, 3, 3, 6, 3, 4, 6, 6, 5, 4, 4, 6, 3, 3, 5, 3, 5, 3, 4, 5, 6, 4, 5, 6, 4, 4, 6, 6, 4, 4, 6, 3, 6, 6, 5, 6, 4, 6, 5, 4, 6, 6, 5, 5]\n"
     ]
    }
   ],
   "source": [
    "import random\n",
    "random_numbers = [random.randint(3, 6) for item in range(50)]\n",
    "print(random_numbers)"
   ]
  },
  {
   "cell_type": "code",
   "execution_count": null,
   "id": "45eab235",
   "metadata": {},
   "outputs": [],
   "source": []
  },
  {
   "cell_type": "markdown",
   "id": "3f515052",
   "metadata": {},
   "source": [
    "### Write a program that asks the user to enter two numbers, x, and y, and computes | x − y | /  x+y."
   ]
  },
  {
   "cell_type": "code",
   "execution_count": 11,
   "id": "d77eec05",
   "metadata": {},
   "outputs": [
    {
     "name": "stdout",
     "output_type": "stream",
     "text": [
      "Please insert x!! 7\n",
      "Please insert y!! 3\n",
      "| x − y | / x+y = |7.0 - 3.0| / 7.0 + 3.0 = 0.4\n"
     ]
    }
   ],
   "source": [
    "x = float(input(\"Please insert x!! \"))\n",
    "y = float(input(\"Please insert y!! \"))\n",
    "print(f\"| x − y | / x+y = |{x} - {y}| / {x} + {y} = {abs(x-y)/(x+y)}\")"
   ]
  },
  {
   "cell_type": "code",
   "execution_count": null,
   "id": "f9c64bfb",
   "metadata": {},
   "outputs": [],
   "source": []
  },
  {
   "cell_type": "markdown",
   "id": "a69e94a3",
   "metadata": {},
   "source": [
    "### A year is a leap year if it is divisible by 4, except that years divisible by 100 are not leap years unless they are also divisible by 400. Ask the user to enter a year, and, using the // operator, determine how many leap years there have been between 1600 and that year."
   ]
  },
  {
   "cell_type": "code",
   "execution_count": 49,
   "id": "c74d4713",
   "metadata": {},
   "outputs": [
    {
     "name": "stdout",
     "output_type": "stream",
     "text": [
      "Please inser the Year!! 2016\n",
      "2016 is a leap year!!\n",
      "[1604, 1608, 1612, 1616, 1620, 1624, 1628, 1632, 1636, 1640, 1644, 1648, 1652, 1656, 1660, 1664, 1668, 1672, 1676, 1680, 1684, 1688, 1692, 1696, 1704, 1708, 1712, 1716, 1720, 1724, 1728, 1732, 1736, 1740, 1744, 1748, 1752, 1756, 1760, 1764, 1768, 1772, 1776, 1780, 1784, 1788, 1792, 1796, 1804, 1808, 1812, 1816, 1820, 1824, 1828, 1832, 1836, 1840, 1844, 1848, 1852, 1856, 1860, 1864, 1868, 1872, 1876, 1880, 1884, 1888, 1892, 1896, 1904, 1908, 1912, 1916, 1920, 1924, 1928, 1932, 1936, 1940, 1944, 1948, 1952, 1956, 1960, 1964, 1968, 1972, 1976, 1980, 1984, 1988, 1992, 1996, 2004, 2008, 2012, 2016]\n"
     ]
    }
   ],
   "source": [
    "year = int(input(\"Please inser the Year!! \"))\n",
    "if year % 4 == 0:\n",
    "    if year % 100 != 0:\n",
    "        print(f\"{year} is a leap year!!\")\n",
    "    else:\n",
    "        print(f\"{year} is not a leap year!!\")\n",
    "else:\n",
    "    print(f\"{year} is not a leap year!!\")\n",
    "\n",
    "leap_years = []    \n",
    "for i in range(1600, year+1):\n",
    "    if i // 4 == i/4 and i % 100 != 0:\n",
    "        leap_years.append(i)\n",
    "        \n",
    "print(leap_years)"
   ]
  },
  {
   "cell_type": "code",
   "execution_count": null,
   "id": "cf954809",
   "metadata": {},
   "outputs": [],
   "source": []
  },
  {
   "cell_type": "markdown",
   "id": "6e2a764b",
   "metadata": {},
   "source": [
    "### A number is called a perfect number if it is equal to the sum of all of its divisors, not including the number itself. For instance, 6 is a perfect number because the divisors of 6 are 1, 2, 3, 6, and 6 = 1 + 2 + 3. As another example, 28 is a perfect number because its divisors are 1, 2, 4, 7,14, 28, and 28=1+2+4+7+14. However,15 is not a perfect number because its divisors are 1, 3, 5, 15, and 15 != 1 + 3 + 5. Write a program that finds all four of the perfect numbers that are less than 10000."
   ]
  },
  {
   "cell_type": "code",
   "execution_count": 27,
   "id": "aca60528",
   "metadata": {},
   "outputs": [
    {
     "data": {
      "text/plain": [
       "[6, 28, 496, 8128]"
      ]
     },
     "execution_count": 27,
     "metadata": {},
     "output_type": "execute_result"
    }
   ],
   "source": [
    "perfect_list = []\n",
    "def perfect_definer(number):\n",
    "    s = 0\n",
    "    for i in range(1, number//2+1):\n",
    "        if number % i == 0:\n",
    "            s +=i\n",
    "    if s == number:\n",
    "        return True\n",
    "    else:\n",
    "        return False\n",
    "    \n",
    "for i in range(2, 10000):\n",
    "    if perfect_definer(i):\n",
    "        perfect_list.append(i)\n",
    "        \n",
    "perfect_list"
   ]
  },
  {
   "cell_type": "code",
   "execution_count": null,
   "id": "7d701fdf",
   "metadata": {},
   "outputs": [],
   "source": []
  }
 ],
 "metadata": {
  "kernelspec": {
   "display_name": "Python 3 (ipykernel)",
   "language": "python",
   "name": "python3"
  },
  "language_info": {
   "codemirror_mode": {
    "name": "ipython",
    "version": 3
   },
   "file_extension": ".py",
   "mimetype": "text/x-python",
   "name": "python",
   "nbconvert_exporter": "python",
   "pygments_lexer": "ipython3",
   "version": "3.9.13"
  }
 },
 "nbformat": 4,
 "nbformat_minor": 5
}
